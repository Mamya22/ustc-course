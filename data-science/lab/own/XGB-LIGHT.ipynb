{
 "cells": [
  {
   "cell_type": "code",
   "execution_count": 1,
   "id": "56e71f1b",
   "metadata": {
    "execution": {
     "iopub.execute_input": "2024-12-15T09:43:41.691951Z",
     "iopub.status.busy": "2024-12-15T09:43:41.691046Z",
     "iopub.status.idle": "2024-12-15T09:43:47.135294Z",
     "shell.execute_reply": "2024-12-15T09:43:47.134060Z"
    },
    "papermill": {
     "duration": 5.455494,
     "end_time": "2024-12-15T09:43:47.138047",
     "exception": false,
     "start_time": "2024-12-15T09:43:41.682553",
     "status": "completed"
    },
    "tags": []
   },
   "outputs": [],
   "source": [
    "import numpy as np\n",
    "import polars as pl\n",
    "import pandas as pd\n",
    "from sklearn.base import clone\n",
    "from copy import deepcopy\n",
    "import optuna\n",
    "from scipy.optimize import minimize\n",
    "import os\n",
    "import matplotlib.pyplot as plt\n",
    "import seaborn as sns\n",
    "\n",
    "import re\n",
    "from colorama import Fore, Style\n",
    "\n",
    "from tqdm import tqdm\n",
    "from IPython.display import clear_output\n",
    "from concurrent.futures import ThreadPoolExecutor\n",
    "import warnings\n",
    "warnings.filterwarnings('ignore')\n",
    "pd.options.display.max_columns = None\n",
    "\n",
    "import lightgbm as lgb\n",
    "from catboost import CatBoostRegressor, CatBoostClassifier\n",
    "from xgboost import XGBRegressor\n",
    "from sklearn.ensemble import VotingRegressor\n",
    "from sklearn.model_selection import *\n",
    "from sklearn.metrics import *\n",
    "\n",
    "n_splits = 5\n",
    "SEED = 42"
   ]
  },
  {
   "cell_type": "code",
   "execution_count": 2,
   "id": "8ea449ef",
   "metadata": {
    "execution": {
     "iopub.execute_input": "2024-12-15T09:43:47.150887Z",
     "iopub.status.busy": "2024-12-15T09:43:47.150297Z",
     "iopub.status.idle": "2024-12-15T09:43:47.157796Z",
     "shell.execute_reply": "2024-12-15T09:43:47.156616Z"
    },
    "papermill": {
     "duration": 0.016516,
     "end_time": "2024-12-15T09:43:47.160067",
     "exception": false,
     "start_time": "2024-12-15T09:43:47.143551",
     "status": "completed"
    },
    "tags": []
   },
   "outputs": [],
   "source": [
    "\n",
    "import logging\n",
    "\n",
    "# 创建日志记录器\n",
    "logger = logging.getLogger()\n",
    "logger.setLevel(logging.INFO)\n",
    "\n",
    "# 创建日志文件的处理器\n",
    "file_handler = logging.FileHandler('./test.log', mode='w')\n",
    "\n",
    "# 创建日志格式\n",
    "formatter = logging.Formatter(\n",
    "    fmt='%(asctime)s - %(levelname)s - %(message)s',\n",
    "    datefmt='%Y-%m-%d %H:%M:%S'\n",
    ")\n",
    "\n",
    "# 将格式应用到处理器\n",
    "file_handler.setFormatter(formatter)\n",
    "\n",
    "# 将处理器添加到日志记录器\n",
    "logger.addHandler(file_handler)"
   ]
  },
  {
   "cell_type": "code",
   "execution_count": 3,
   "id": "4b2d7b11",
   "metadata": {
    "execution": {
     "iopub.execute_input": "2024-12-15T09:43:47.171672Z",
     "iopub.status.busy": "2024-12-15T09:43:47.171304Z",
     "iopub.status.idle": "2024-12-15T09:43:47.273479Z",
     "shell.execute_reply": "2024-12-15T09:43:47.271904Z"
    },
    "papermill": {
     "duration": 0.112185,
     "end_time": "2024-12-15T09:43:47.277355",
     "exception": false,
     "start_time": "2024-12-15T09:43:47.165170",
     "status": "completed"
    },
    "tags": []
   },
   "outputs": [],
   "source": [
    "train = pd.read_csv('/kaggle/input/child-mind-institute-problematic-internet-use/train.csv')\n",
    "test = pd.read_csv('/kaggle/input/child-mind-institute-problematic-internet-use/test.csv')\n",
    "sample = pd.read_csv('/kaggle/input/child-mind-institute-problematic-internet-use/sample_submission.csv')"
   ]
  },
  {
   "cell_type": "code",
   "execution_count": 4,
   "id": "22efac44",
   "metadata": {
    "execution": {
     "iopub.execute_input": "2024-12-15T09:43:47.303968Z",
     "iopub.status.busy": "2024-12-15T09:43:47.303535Z",
     "iopub.status.idle": "2024-12-15T09:43:47.318188Z",
     "shell.execute_reply": "2024-12-15T09:43:47.317028Z"
    },
    "papermill": {
     "duration": 0.031208,
     "end_time": "2024-12-15T09:43:47.321477",
     "exception": false,
     "start_time": "2024-12-15T09:43:47.290269",
     "status": "completed"
    },
    "tags": []
   },
   "outputs": [],
   "source": [
    "#加载(timeseries)数据\n",
    "\n",
    "#process_file处理一个文件（一个id），从文件中提取一般信息，如每个特征的计数、均值、标准差、最小值、25%分位数、50%分位数、75%分位数和最大值。\n",
    "#然后，将特征矩阵展平为一个向量，以表示文件中的数据。\n",
    "def process_file(filename, dirname):\n",
    "    df = pd.read_parquet(os.path.join(dirname, filename, 'part-0.parquet'))#df是一个dataframe\n",
    "    #print(df)\n",
    "    df.drop('step', axis=1, inplace=True)#删除了 DataFrame 中名为 'step' 的列。step就是0,1,2,3....\n",
    "    #去掉step列后df有12列，都是特征列\n",
    "    #print()\n",
    "    #print(df)\n",
    "    #print(df.describe())\n",
    "    return df.describe().values.reshape(-1), filename.split('=')[1]\n",
    "#返回值1：df.describe().values是df中的各列的count、mean等待的数值部分（一个numpy数组），.reshape(-1)多维数组(12列*8）展平为一维数组（一列的各个值在一起）（-1 表示根据数组的总元素数自动推算维度）。\n",
    "#返回值2：这个文件的用户id\n",
    "\n",
    "#load_time_series：格式化并加载文件夹中所有已处理的文件。（处理一个大文件夹时的文件，很多id)\n",
    "#返回结果是一个dataframe,每行表示一个用户id,每列是一个describe(共96个这样的列)，但最后一列是用户id\n",
    "def load_time_series(dirname) -> pd.DataFrame:\n",
    "    ids = os.listdir(dirname)\n",
    "    \n",
    "    with ThreadPoolExecutor() as executor:#用于并行处理\n",
    "        results = list(tqdm(executor.map(lambda fname: process_file(fname, dirname), ids), total=len(ids)))\n",
    "        #tqdm是进度条 list()转化为列表   executor.map对每个文件并行处理   \n",
    "    \n",
    "    stats, indexes = zip(*results)# *zip是解压缩\n",
    "    #将 results 中的所有元组解包，分别得到两个列表。\n",
    "    #stats 包含所有文件的描述性统计信息(文件中12个列的count、mean等）（即 process_file 函数的第一个返回值），\n",
    "    #而 indexes 包含所有文件名的id（即 process_file 函数的第二个返回值）。\n",
    "    \n",
    "    df = pd.DataFrame(stats, columns=[f\"Stat_{i}\" for i in range(len(stats[0]))])\n",
    "    #把stats转化为dataframe df,列名为Stat_0,Stat_1....   每行表示一个文件（一个id)，共96列\n",
    "    \n",
    "    df['id'] = indexes\n",
    "    #加一id这一列\n",
    "    \n",
    "    #print()\n",
    "    #print(\"stats\",stats)\n",
    "    #print()\n",
    "    # print(\"df\",df)\n",
    "    \n",
    "    return df"
   ]
  },
  {
   "cell_type": "code",
   "execution_count": 5,
   "id": "b0bd0c12",
   "metadata": {
    "execution": {
     "iopub.execute_input": "2024-12-15T09:43:47.341203Z",
     "iopub.status.busy": "2024-12-15T09:43:47.340797Z",
     "iopub.status.idle": "2024-12-15T09:45:15.758759Z",
     "shell.execute_reply": "2024-12-15T09:45:15.757587Z"
    },
    "papermill": {
     "duration": 88.42986,
     "end_time": "2024-12-15T09:45:15.761022",
     "exception": false,
     "start_time": "2024-12-15T09:43:47.331162",
     "status": "completed"
    },
    "tags": []
   },
   "outputs": [
    {
     "name": "stderr",
     "output_type": "stream",
     "text": [
      "100%|██████████| 996/996 [01:28<00:00, 11.31it/s]\n",
      "100%|██████████| 2/2 [00:00<00:00,  8.91it/s]"
     ]
    },
    {
     "name": "stdout",
     "output_type": "stream",
     "text": [
      "['Stat_0', 'Stat_1', 'Stat_2', 'Stat_3', 'Stat_4', 'Stat_5', 'Stat_6', 'Stat_7', 'Stat_8', 'Stat_9', 'Stat_10', 'Stat_11', 'Stat_12', 'Stat_13', 'Stat_14', 'Stat_15', 'Stat_16', 'Stat_17', 'Stat_18', 'Stat_19', 'Stat_20', 'Stat_21', 'Stat_22', 'Stat_23', 'Stat_24', 'Stat_25', 'Stat_26', 'Stat_27', 'Stat_28', 'Stat_29', 'Stat_30', 'Stat_31', 'Stat_32', 'Stat_33', 'Stat_34', 'Stat_35', 'Stat_36', 'Stat_37', 'Stat_38', 'Stat_39', 'Stat_40', 'Stat_41', 'Stat_42', 'Stat_43', 'Stat_44', 'Stat_45', 'Stat_46', 'Stat_47', 'Stat_48', 'Stat_49', 'Stat_50', 'Stat_51', 'Stat_52', 'Stat_53', 'Stat_54', 'Stat_55', 'Stat_56', 'Stat_57', 'Stat_58', 'Stat_59', 'Stat_60', 'Stat_61', 'Stat_62', 'Stat_63', 'Stat_64', 'Stat_65', 'Stat_66', 'Stat_67', 'Stat_68', 'Stat_69', 'Stat_70', 'Stat_71', 'Stat_72', 'Stat_73', 'Stat_74', 'Stat_75', 'Stat_76', 'Stat_77', 'Stat_78', 'Stat_79', 'Stat_80', 'Stat_81', 'Stat_82', 'Stat_83', 'Stat_84', 'Stat_85', 'Stat_86', 'Stat_87', 'Stat_88', 'Stat_89', 'Stat_90', 'Stat_91', 'Stat_92', 'Stat_93', 'Stat_94', 'Stat_95']\n"
     ]
    },
    {
     "name": "stderr",
     "output_type": "stream",
     "text": [
      "\n"
     ]
    }
   ],
   "source": [
    "train_ts = load_time_series(\"/kaggle/input/child-mind-institute-problematic-internet-use/series_train.parquet\")\n",
    "test_ts = load_time_series(\"/kaggle/input/child-mind-institute-problematic-internet-use/series_test.parquet\")\n",
    "time_series_cols = train_ts.columns.tolist()#所有列名的list\n",
    "time_series_cols.remove(\"id\")#去掉id这一列\n",
    "print(time_series_cols)"
   ]
  },
  {
   "cell_type": "code",
   "execution_count": 6,
   "id": "087964ac",
   "metadata": {
    "execution": {
     "iopub.execute_input": "2024-12-15T09:45:15.812010Z",
     "iopub.status.busy": "2024-12-15T09:45:15.811578Z",
     "iopub.status.idle": "2024-12-15T09:45:15.853911Z",
     "shell.execute_reply": "2024-12-15T09:45:15.852769Z"
    },
    "papermill": {
     "duration": 0.070726,
     "end_time": "2024-12-15T09:45:15.856510",
     "exception": false,
     "start_time": "2024-12-15T09:45:15.785784",
     "status": "completed"
    },
    "tags": []
   },
   "outputs": [],
   "source": [
    "train = pd.merge(train, train_ts, how=\"left\", on='id')\n",
    "test = pd.merge(test, test_ts, how=\"left\", on='id')\n",
    "\n",
    "\n",
    "train = train.drop('id', axis=1)\n",
    "test = test.drop('id', axis=1)"
   ]
  },
  {
   "cell_type": "code",
   "execution_count": 7,
   "id": "a91a3049",
   "metadata": {
    "execution": {
     "iopub.execute_input": "2024-12-15T09:45:15.907170Z",
     "iopub.status.busy": "2024-12-15T09:45:15.906627Z",
     "iopub.status.idle": "2024-12-15T09:45:15.916938Z",
     "shell.execute_reply": "2024-12-15T09:45:15.915844Z"
    },
    "papermill": {
     "duration": 0.038934,
     "end_time": "2024-12-15T09:45:15.919135",
     "exception": false,
     "start_time": "2024-12-15T09:45:15.880201",
     "status": "completed"
    },
    "tags": []
   },
   "outputs": [],
   "source": [
    "train = train.dropna(subset='sii')#本来3960行"
   ]
  },
  {
   "cell_type": "code",
   "execution_count": 8,
   "id": "0e44d0f4",
   "metadata": {
    "execution": {
     "iopub.execute_input": "2024-12-15T09:45:15.978627Z",
     "iopub.status.busy": "2024-12-15T09:45:15.978127Z",
     "iopub.status.idle": "2024-12-15T09:45:15.983680Z",
     "shell.execute_reply": "2024-12-15T09:45:15.982301Z"
    },
    "papermill": {
     "duration": 0.041566,
     "end_time": "2024-12-15T09:45:15.985957",
     "exception": false,
     "start_time": "2024-12-15T09:45:15.944391",
     "status": "completed"
    },
    "tags": []
   },
   "outputs": [],
   "source": [
    "train_sii=train['sii']"
   ]
  },
  {
   "cell_type": "code",
   "execution_count": 9,
   "id": "2f758312",
   "metadata": {
    "execution": {
     "iopub.execute_input": "2024-12-15T09:45:16.037076Z",
     "iopub.status.busy": "2024-12-15T09:45:16.036660Z",
     "iopub.status.idle": "2024-12-15T09:45:16.072202Z",
     "shell.execute_reply": "2024-12-15T09:45:16.071019Z"
    },
    "papermill": {
     "duration": 0.064629,
     "end_time": "2024-12-15T09:45:16.074793",
     "exception": false,
     "start_time": "2024-12-15T09:45:16.010164",
     "status": "completed"
    },
    "tags": []
   },
   "outputs": [],
   "source": [
    "cat_c = ['Basic_Demos-Enroll_Season', 'CGAS-Season', 'Physical-Season', 'Fitness_Endurance-Season', \n",
    "          'FGC-Season', 'BIA-Season', 'PAQ_A-Season', 'PAQ_C-Season', 'SDS-Season', 'PreInt_EduHx-Season']\n",
    "#这些列都是与season有关的，列的值本来是spring...,用astype('category')变为category型，处理更快，虽然还是写为spring\n",
    "season_mapping={'Spring': 1, 'Summer': 2, 'Fall': 3, 'Winter': 4,'Missing':5}\n",
    "\n",
    "def update(df):\n",
    "    for c in cat_c: \n",
    "        df[c] = df[c].fillna('Missing')#把这些列中缺失的值补为Missing\n",
    "        #df[c] = df[c].astype('category')\n",
    "    for c in cat_c:\n",
    "        df[c]=df[c].map(season_mapping)\n",
    "    return df\n",
    "        \n",
    "train = update(train)\n",
    "test = update(test)\n"
   ]
  },
  {
   "cell_type": "code",
   "execution_count": 10,
   "id": "f918a966",
   "metadata": {
    "execution": {
     "iopub.execute_input": "2024-12-15T09:45:16.124622Z",
     "iopub.status.busy": "2024-12-15T09:45:16.124188Z",
     "iopub.status.idle": "2024-12-15T09:45:16.133780Z",
     "shell.execute_reply": "2024-12-15T09:45:16.132260Z"
    },
    "papermill": {
     "duration": 0.037699,
     "end_time": "2024-12-15T09:45:16.136740",
     "exception": false,
     "start_time": "2024-12-15T09:45:16.099041",
     "status": "completed"
    },
    "tags": []
   },
   "outputs": [],
   "source": [
    "columns=test.columns\n",
    "train_sii=train['sii']\n",
    "train=train[columns]\n",
    "train['sii']=train_sii"
   ]
  },
  {
   "cell_type": "code",
   "execution_count": 11,
   "id": "5d323bff",
   "metadata": {
    "execution": {
     "iopub.execute_input": "2024-12-15T09:45:16.200324Z",
     "iopub.status.busy": "2024-12-15T09:45:16.199926Z",
     "iopub.status.idle": "2024-12-15T09:45:16.212246Z",
     "shell.execute_reply": "2024-12-15T09:45:16.211024Z"
    },
    "papermill": {
     "duration": 0.047652,
     "end_time": "2024-12-15T09:45:16.214765",
     "exception": false,
     "start_time": "2024-12-15T09:45:16.167113",
     "status": "completed"
    },
    "tags": []
   },
   "outputs": [],
   "source": [
    "def feature_engineering(df):#用于在一个 DataFrame 中创建新的特征\n",
    "    #先删除season有关的列\n",
    "    #season_cols = [col for col in df.columns if 'Season' in col]\n",
    "    #df = df.drop(season_cols, axis=1) \n",
    "    \n",
    "    #加很多新列\n",
    "    df['BMI_Age'] = df['Physical-BMI'] * df['Basic_Demos-Age']#BMI*年龄\n",
    "    df['Internet_Hours_Age'] = df['PreInt_EduHx-computerinternet_hoursday'] * df['Basic_Demos-Age']\n",
    "    df['BMI_Internet_Hours'] = df['Physical-BMI'] * df['PreInt_EduHx-computerinternet_hoursday']\n",
    "    df['BFP_BMI'] = df['BIA-BIA_Fat'] / df['BIA-BIA_BMI']\n",
    "    df['FFMI_BFP'] = df['BIA-BIA_FFMI'] / df['BIA-BIA_Fat']\n",
    "    df['FMI_BFP'] = df['BIA-BIA_FMI'] / df['BIA-BIA_Fat']\n",
    "    df['LST_TBW'] = df['BIA-BIA_LST'] / df['BIA-BIA_TBW']\n",
    "    df['BFP_BMR'] = df['BIA-BIA_Fat'] * df['BIA-BIA_BMR']\n",
    "    df['BFP_DEE'] = df['BIA-BIA_Fat'] * df['BIA-BIA_DEE']\n",
    "    df['BMR_Weight'] = df['BIA-BIA_BMR'] / df['Physical-Weight']\n",
    "    df['DEE_Weight'] = df['BIA-BIA_DEE'] / df['Physical-Weight']\n",
    "    df['SMM_Height'] = df['BIA-BIA_SMM'] / df['Physical-Height']\n",
    "    df['Muscle_to_Fat'] = df['BIA-BIA_SMM'] / df['BIA-BIA_FMI']\n",
    "    df['Hydration_Status'] = df['BIA-BIA_TBW'] / df['Physical-Weight']\n",
    "    df['ICW_TBW'] = df['BIA-BIA_ICW'] / df['BIA-BIA_TBW']\n",
    "    df['hoursday_Age'] = df['PreInt_EduHx-computerinternet_hoursday'] / df['BMI_Age']\n",
    "\n",
    "    df['Age_Weight'] = df['Basic_Demos-Age'] * df['Physical-Weight']\n",
    "    df['Sex_BMI'] = df['Basic_Demos-Sex'] * df['Physical-BMI']\n",
    "    df['Sex_HeartRate'] = df['Basic_Demos-Sex'] * df['Physical-HeartRate']\n",
    "    df['Age_WaistCirc'] = df['Basic_Demos-Age'] * df['Physical-Waist_Circumference']\n",
    "    df['BMI_FitnessMaxStage'] = df['Physical-BMI'] * df['Fitness_Endurance-Max_Stage']\n",
    "    df['Weight_GripStrengthDominant'] = df['Physical-Weight'] * df['FGC-FGC_GSD']\n",
    "    df['Weight_GripStrengthNonDominant'] = df['Physical-Weight'] * df['FGC-FGC_GSND']\n",
    "    df['HeartRate_FitnessTime'] = df['Physical-HeartRate'] * (df['Fitness_Endurance-Time_Mins'] + df['Fitness_Endurance-Time_Sec'])\n",
    "    df['Age_PushUp'] = df['Basic_Demos-Age'] * df['FGC-FGC_PU']\n",
    "    df['FFMI_Age'] = df['BIA-BIA_FFMI'] * df['Basic_Demos-Age']\n",
    "    df['InternetUse_SleepDisturbance'] = df['PreInt_EduHx-computerinternet_hoursday'] * df['SDS-SDS_Total_Raw']\n",
    "    df['CGAS_BMI'] = df['CGAS-CGAS_Score'] * df['Physical-BMI']\n",
    "    df['CGAS_FitnessMaxStage'] = df['CGAS-CGAS_Score'] * df['Fitness_Endurance-Max_Stage']\n",
    "    \n",
    "    return df"
   ]
  },
  {
   "cell_type": "code",
   "execution_count": 12,
   "id": "cca15ec3",
   "metadata": {
    "execution": {
     "iopub.execute_input": "2024-12-15T09:45:16.281334Z",
     "iopub.status.busy": "2024-12-15T09:45:16.280944Z",
     "iopub.status.idle": "2024-12-15T09:45:16.326988Z",
     "shell.execute_reply": "2024-12-15T09:45:16.325824Z"
    },
    "papermill": {
     "duration": 0.081644,
     "end_time": "2024-12-15T09:45:16.329357",
     "exception": false,
     "start_time": "2024-12-15T09:45:16.247713",
     "status": "completed"
    },
    "tags": []
   },
   "outputs": [],
   "source": [
    "train=feature_engineering(train)\n",
    "test=feature_engineering(test)"
   ]
  },
  {
   "cell_type": "code",
   "execution_count": 13,
   "id": "8275556b",
   "metadata": {
    "execution": {
     "iopub.execute_input": "2024-12-15T09:45:16.393690Z",
     "iopub.status.busy": "2024-12-15T09:45:16.393277Z",
     "iopub.status.idle": "2024-12-15T09:45:24.265019Z",
     "shell.execute_reply": "2024-12-15T09:45:24.263803Z"
    },
    "papermill": {
     "duration": 7.907014,
     "end_time": "2024-12-15T09:45:24.267879",
     "exception": false,
     "start_time": "2024-12-15T09:45:16.360865",
     "status": "completed"
    },
    "tags": []
   },
   "outputs": [],
   "source": [
    "#现在train里sii没有缺失值\n",
    "#KNN法补全缺失值      ?????如果用mean????\n",
    "\n",
    "from sklearn.impute import KNNImputer\n",
    "\n",
    "imputer = KNNImputer(n_neighbors=5)\n",
    "numeric_cols = train.select_dtypes(include=['float64', 'int64','float32']).columns#数据框 train 中所有数值型的列（即 float64 和 int64 类型的列）。\n",
    "train[numeric_cols] = train[numeric_cols].replace([np.inf, -np.inf], np.nan)#无穷大变成nan\n",
    "imputed_data = imputer.fit_transform(train[numeric_cols])\n",
    "train_imputed = pd.DataFrame(imputed_data, columns=numeric_cols)\n",
    "\n",
    "numeric_cols = test.select_dtypes(include=['float64', 'int64','float32']).columns#数据框 train 中所有数值型的列（即 float64 和 int64 类型的列）。\n",
    "test[numeric_cols] = test[numeric_cols].replace([np.inf, -np.inf], np.nan)\n",
    "\n",
    "imputed_data = imputer.fit_transform(test[numeric_cols])\n",
    "test_imputed = pd.DataFrame(imputed_data, columns=numeric_cols)"
   ]
  },
  {
   "cell_type": "code",
   "execution_count": 14,
   "id": "6cc1c3e5",
   "metadata": {
    "execution": {
     "iopub.execute_input": "2024-12-15T09:45:24.330945Z",
     "iopub.status.busy": "2024-12-15T09:45:24.330546Z",
     "iopub.status.idle": "2024-12-15T09:45:33.346137Z",
     "shell.execute_reply": "2024-12-15T09:45:33.344434Z"
    },
    "papermill": {
     "duration": 9.05728,
     "end_time": "2024-12-15T09:45:33.355868",
     "exception": false,
     "start_time": "2024-12-15T09:45:24.298588",
     "status": "completed"
    },
    "tags": []
   },
   "outputs": [
    {
     "data": {
      "image/png": "[encoded data removed]",
      "text/plain": [
       "<Figure size 1000x600 with 1 Axes>"
      ]
     },
     "metadata": {},
     "output_type": "display_data"
    }
   ],
   "source": [
    "from sklearn.metrics import silhouette_score\n",
    "import matplotlib.pyplot as plt\n",
    "from sklearn.cluster import KMeans\n",
    "\n",
    "silhouette_scores = []#-1到1，越接近1越好\n",
    "k_range = range(2, 10)  # Adjust range as needed\n",
    "\n",
    "for k in k_range:\n",
    "    kmeans = KMeans(n_clusters=k, random_state=42)\n",
    "    cluster_labels = kmeans.fit_predict(train_imputed)\n",
    "    silhouette_avg = silhouette_score(train_imputed, cluster_labels)\n",
    "    silhouette_scores.append(silhouette_avg)\n",
    "\n",
    "plt.figure(figsize=(10, 6))\n",
    "plt.plot(k_range, silhouette_scores, marker='o')\n",
    "plt.title('Silhouette Method for Optimal k')\n",
    "plt.xlabel('Number of Clusters (k)')\n",
    "plt.ylabel('Silhouette Score')\n",
    "plt.xticks(k_range)\n",
    "plt.grid()\n",
    "plt.show()"
   ]
  },
  {
   "cell_type": "code",
   "execution_count": 15,
   "id": "1eca8d7d",
   "metadata": {
    "execution": {
     "iopub.execute_input": "2024-12-15T09:45:33.422550Z",
     "iopub.status.busy": "2024-12-15T09:45:33.422107Z",
     "iopub.status.idle": "2024-12-15T09:45:33.431551Z",
     "shell.execute_reply": "2024-12-15T09:45:33.429925Z"
    },
    "papermill": {
     "duration": 0.045025,
     "end_time": "2024-12-15T09:45:33.434168",
     "exception": false,
     "start_time": "2024-12-15T09:45:33.389143",
     "status": "completed"
    },
    "tags": []
   },
   "outputs": [],
   "source": [
    "train=train_imputed\n",
    "test=test_imputed"
   ]
  },
  {
   "cell_type": "code",
   "execution_count": 16,
   "id": "5fd130a6",
   "metadata": {
    "execution": {
     "iopub.execute_input": "2024-12-15T09:45:33.499977Z",
     "iopub.status.busy": "2024-12-15T09:45:33.499578Z",
     "iopub.status.idle": "2024-12-15T09:45:34.429126Z",
     "shell.execute_reply": "2024-12-15T09:45:34.427922Z"
    },
    "papermill": {
     "duration": 0.966577,
     "end_time": "2024-12-15T09:45:34.431950",
     "exception": false,
     "start_time": "2024-12-15T09:45:33.465373",
     "status": "completed"
    },
    "tags": []
   },
   "outputs": [],
   "source": [
    "#K-Means\n",
    "optimal_k = 9  #cluster数取2\n",
    "kmeans = KMeans(n_clusters=optimal_k, random_state=42)#把数据分为2个聚类的模型\n",
    "clusters = kmeans.fit_predict(train)#cluster是一个n个元素的数组，n是mean_values_df的行数（数据点数），每个元素是这个数据点属于哪个聚类\n",
    "#fit训练，从mean_values_df里确定2个聚类（每个列是一个特征），predict,预测每个数据点属于哪个聚类 \n",
    "\n",
    "# 將群集标签加入到 DataFrame，作为一个新的特征列\n",
    "train['Cluster'] = clusters\n",
    "\n",
    "clusters = kmeans.fit_predict(test)\n",
    "test['Cluster'] = clusters"
   ]
  },
  {
   "cell_type": "code",
   "execution_count": 17,
   "id": "94fa70b8",
   "metadata": {
    "execution": {
     "iopub.execute_input": "2024-12-15T09:45:34.498563Z",
     "iopub.status.busy": "2024-12-15T09:45:34.498104Z",
     "iopub.status.idle": "2024-12-15T09:45:34.842813Z",
     "shell.execute_reply": "2024-12-15T09:45:34.841452Z"
    },
    "papermill": {
     "duration": 0.380321,
     "end_time": "2024-12-15T09:45:34.845460",
     "exception": false,
     "start_time": "2024-12-15T09:45:34.465139",
     "status": "completed"
    },
    "tags": []
   },
   "outputs": [
    {
     "name": "stdout",
     "output_type": "stream",
     "text": [
      "Unique clusters: 2\n",
      "Noise points: 1000\n"
     ]
    }
   ],
   "source": [
    "from sklearn.cluster import DBSCAN\n",
    "# Perform DBSCAN clustering基于密度的带噪声应用空间聚类\n",
    "dbscan = DBSCAN(eps=3.5, min_samples=30)  #eps表示两个点之间的最大距离,min_samples=30：表示一个聚类最小需要的点数\n",
    "train_clusters = dbscan.fit_predict(train)\n",
    "#返回一个包含每个点所属聚类标签的数组。噪声点会被标记为 -1，其他点则会被分配一个正整数标签，表示它们属于某个特定的聚类。\n",
    "\n",
    "print(f\"Unique clusters: {len(np.unique(train_clusters[train_clusters != -1]))}\")#聚类个数\n",
    "print(f\"Noise points: {np.sum(train_clusters == -1)}\")#噪声点的数量\n",
    "\n",
    "test_clusters = dbscan.fit_predict(test)\n",
    "\n",
    "train['cluster2']=train_clusters\n",
    "test['cluster2']=test_clusters"
   ]
  },
  {
   "cell_type": "code",
   "execution_count": 18,
   "id": "ad022ae3",
   "metadata": {
    "execution": {
     "iopub.execute_input": "2024-12-15T09:45:34.909542Z",
     "iopub.status.busy": "2024-12-15T09:45:34.909084Z",
     "iopub.status.idle": "2024-12-15T09:45:34.918199Z",
     "shell.execute_reply": "2024-12-15T09:45:34.916739Z"
    },
    "papermill": {
     "duration": 0.04424,
     "end_time": "2024-12-15T09:45:34.920584",
     "exception": false,
     "start_time": "2024-12-15T09:45:34.876344",
     "status": "completed"
    },
    "tags": []
   },
   "outputs": [],
   "source": [
    "#接下来是有关评估的函数\n",
    "\n",
    "#计算QWK值 -1 到 1 之间，值越高，表示预测结果越准确\n",
    "def quadratic_weighted_kappa(y_true, y_pred):#y_true是真实的sii,y_pred是预测的sii\n",
    "    return cohen_kappa_score(y_true, y_pred, weights='quadratic')\n",
    "#最初的train数据里有PCIAT_Total这一列，sii的值就是按这个值分为0，1，2，3的\n",
    "#看off_non_rounded(实际输入的是PCIAT_Total的值）在哪一个范围内，返回对应的sii\n",
    "#不是从PCIAT_Total，而是预测得到的sii不是整数值，要以几个threshold把它们划分为0,1,2,3这几个整数\n",
    "def threshold_Rounder(oof_non_rounded, thresholds):#thresholds是一个个的区间端点\n",
    "    return np.where(oof_non_rounded < thresholds[0], 0,\n",
    "                    np.where(oof_non_rounded < thresholds[1], 1,\n",
    "                             np.where(oof_non_rounded < thresholds[2], 2, 3)))\n",
    "#先将整数型预测值转换为分类值，然后计算预测值与真实标签之间的 QWK 值来评估模型的预测效果。\n",
    "def evaluate_predictions(thresholds, y_true, oof_non_rounded):\n",
    "    rounded_p = threshold_Rounder(oof_non_rounded, thresholds)\n",
    "    return -quadratic_weighted_kappa(y_true, rounded_p)#  返回的是-，因为后面用的minimize，而QWK越大越好"
   ]
  },
  {
   "cell_type": "code",
   "execution_count": 19,
   "id": "b20069a6",
   "metadata": {
    "execution": {
     "iopub.execute_input": "2024-12-15T09:45:34.985958Z",
     "iopub.status.busy": "2024-12-15T09:45:34.985323Z",
     "iopub.status.idle": "2024-12-15T09:45:34.993396Z",
     "shell.execute_reply": "2024-12-15T09:45:34.992352Z"
    },
    "papermill": {
     "duration": 0.044189,
     "end_time": "2024-12-15T09:45:34.995809",
     "exception": false,
     "start_time": "2024-12-15T09:45:34.951620",
     "status": "completed"
    },
    "tags": []
   },
   "outputs": [
    {
     "data": {
      "text/plain": [
       "(2736, 186)"
      ]
     },
     "execution_count": 19,
     "metadata": {},
     "output_type": "execute_result"
    }
   ],
   "source": [
    "train.shape"
   ]
  },
  {
   "cell_type": "code",
   "execution_count": 20,
   "id": "70b58d07",
   "metadata": {
    "execution": {
     "iopub.execute_input": "2024-12-15T09:45:35.071528Z",
     "iopub.status.busy": "2024-12-15T09:45:35.071126Z",
     "iopub.status.idle": "2024-12-15T09:45:35.090484Z",
     "shell.execute_reply": "2024-12-15T09:45:35.089105Z"
    },
    "papermill": {
     "duration": 0.072242,
     "end_time": "2024-12-15T09:45:35.093119",
     "exception": false,
     "start_time": "2024-12-15T09:45:35.020877",
     "status": "completed"
    },
    "tags": []
   },
   "outputs": [],
   "source": [
    "#下面是训练模型：使用 K-Fold 训练模型，该模型是回归模型，用于预测sii。由于这些值可能没有明确的差异，因此我们重新定义阈值以使分类更加准确\n",
    "def TrainML(model_class, test_data):\n",
    "    \n",
    "    X = train.drop(['sii'], axis=1)#X是去掉sii这一列的train\n",
    "    y = train['sii']#真实sii\n",
    "\n",
    "    # Apply K-Fold（K折交叉验证）一种模型评估方法\n",
    "    SKF = StratifiedKFold(n_splits=n_splits, shuffle=True)#一个K-fold模型\n",
    "    #把原train数据分为k个子集，进行k次训练，每次用一个子集作验证集，剩下k-1个是训练集。评估指标（如准确率、精确度、召回率等），最后取平均\n",
    "    \n",
    "    train_S = []\n",
    "    val_S = []#每一折的训练集与验证集的分别的kappa值\n",
    "    \n",
    "    oof_non_rounded = np.zeros(len(y), dtype=float) #和y一样大小，用来装train得到的预测的sii\n",
    "    oof_rounded = np.zeros(len(y), dtype=int)   #train得到的预测sii,四舍五入过了   \n",
    "    #每一折的时候oof_non_rounded，oof_rounded存的都是这一折的验证集val的预测sii，最后所有折结束后也得到了所有train的预测sii\n",
    "    test_preds = np.zeros((len(test_data), n_splits))#test的预测的sii 每折都有一列\n",
    "\n",
    "    for fold, (train_idx, val_idx) in enumerate(tqdm(SKF.split(X, y), desc=\"Training Folds\", total=n_splits)):\n",
    "        #fold是每一折的索引0,1,2.... train_idx 和 val_idx 是训练集和验证集的索引。\n",
    "        # Train model\n",
    "        X_train, X_val = X.iloc[train_idx], X.iloc[val_idx]  #train 是训练集，val是验证集\n",
    "        y_train, y_val = y.iloc[train_idx], y.iloc[val_idx]\n",
    "        \n",
    "        model = clone(model_class)#克隆一个新的模型实例，确保每一折的训练都是独立的。model_class是传入的模型\n",
    "        model.fit(X_train, y_train)#训练\n",
    "\n",
    "        y_train_pred = model.predict(X_train)\n",
    "        y_val_pred = model.predict(X_val)\n",
    "\n",
    "        # Round to integer values  round表示四舍五入\n",
    "        oof_non_rounded[val_idx] = y_val_pred\n",
    "        y_val_pred_rounded = y_val_pred.round(0).astype(int)\n",
    "        oof_rounded[val_idx] = y_val_pred_rounded\n",
    "\n",
    "        train_kappa = quadratic_weighted_kappa(y_train, y_train_pred.round(0).astype(int))\n",
    "        val_kappa = quadratic_weighted_kappa(y_val, y_val_pred_rounded)\n",
    "\n",
    "        train_S.append(train_kappa)\n",
    "        val_S.append(val_kappa)\n",
    "        \n",
    "        #使用外面的测试数据test_data（不是K-fold分的验证集）进行预测，\n",
    "        #并将预测结果存储在 test_preds 中的当前折（fold）列。\n",
    "        test_preds[:, fold] = model.predict(test_data)\n",
    "        \n",
    "        print(f\"Fold {fold+1} - Train QWK: {train_kappa:.4f}, Validation QWK: {val_kappa:.4f}\")\n",
    "        # 在这里使用logger.info来输出每一折的训练和验证QWK\n",
    "        logging.info(f\"Fold {fold+1} - Train QWK: {train_kappa:.4f}, Validation QWK: {val_kappa:.4f}\")\n",
    "        clear_output(wait=True)\n",
    "        \n",
    "\n",
    "        #clear_output(wait=True)\n",
    "\n",
    "    # 计算平均QWK并记录\n",
    "    logging.info(f\"Mean Train QWK --> {np.mean(train_S):.4f}\")\n",
    "    logging.info(f\"Mean Validation QWK ---> {np.mean(val_S):.4f}\")\n",
    "    \n",
    "    #对每一折的train_kappa,val_kappa分别求平均\n",
    "    print(f\"Mean Train QWK --> {np.mean(train_S):.4f}\")\n",
    "    print(f\"Mean Validation QWK ---> {np.mean(val_S):.4f}\")\n",
    "\n",
    "    # Using optimizer to find the best threshold\n",
    "    #使用优化器找到分sii的最佳阈值\n",
    "    KappaOPtimizer = minimize(evaluate_predictions,\n",
    "                              x0=[0.5, 1.5, 2.5], args=(y, oof_non_rounded), \n",
    "                              method='Nelder-Mead') # Nelder-Mead | # Powell\n",
    "    #minimize 是来自 scipy.optimize 的函数，目的是 最小化目标函数。这里的目标函数是 evaluate_predictions（最后的QWK），\n",
    "    #即通过优化调整阈值来最大化QWK得分。\n",
    "    #x0=[0.5, 1.5, 2.5] 是初始猜测的阈值，args是evaluate_predictions的后两个参数（第一个参数是要优化的thresholds）\n",
    "    assert KappaOPtimizer.success, \"Optimization did not converge.\"#检查优化过程是否收敛\n",
    "\n",
    "    # Use the threshold retrive from the optimizer to predict again to evaluate\n",
    "    #KappaOPtimizer.x就是优化得到的最佳阈值，用它再对不整的sii进行划分sii，与求kappa\n",
    "    oof_tuned = threshold_Rounder(oof_non_rounded, KappaOPtimizer.x)\n",
    "    tKappa = quadratic_weighted_kappa(y, oof_tuned)\n",
    "\n",
    "    print(f\"----> || Optimized QWK SCORE :: {Fore.CYAN}{Style.BRIGHT} {tKappa:.3f}{Style.RESET_ALL}\")\n",
    "\n",
    "    # Use the threshold retrive from the optimizer to predict test\n",
    "    tpm = test_preds.mean(axis=1)#求平均\n",
    "    tpTuned = threshold_Rounder(tpm, KappaOPtimizer.x)\n",
    "    \n",
    "    # Create submition   test_data的id与最终预测sii\n",
    "    submission = pd.DataFrame({\n",
    "        'id': sample['id'],\n",
    "        'sii': tpTuned\n",
    "    })\n",
    "\n",
    "   \n",
    "\n",
    "    return submission"
   ]
  },
  {
   "cell_type": "code",
   "execution_count": 21,
   "id": "f4fc0d22",
   "metadata": {
    "execution": {
     "iopub.execute_input": "2024-12-15T09:45:35.158970Z",
     "iopub.status.busy": "2024-12-15T09:45:35.158565Z",
     "iopub.status.idle": "2024-12-15T09:46:15.177611Z",
     "shell.execute_reply": "2024-12-15T09:46:15.176590Z"
    },
    "papermill": {
     "duration": 40.054957,
     "end_time": "2024-12-15T09:46:15.180019",
     "exception": false,
     "start_time": "2024-12-15T09:45:35.125062",
     "status": "completed"
    },
    "tags": []
   },
   "outputs": [
    {
     "name": "stderr",
     "output_type": "stream",
     "text": [
      "Training Folds: 100%|██████████| 5/5 [00:39<00:00,  7.94s/it]"
     ]
    },
    {
     "name": "stdout",
     "output_type": "stream",
     "text": [
      "Mean Train QWK --> 0.8947\n",
      "Mean Validation QWK ---> 0.3961\n"
     ]
    },
    {
     "name": "stderr",
     "output_type": "stream",
     "text": [
      "\n"
     ]
    },
    {
     "name": "stdout",
     "output_type": "stream",
     "text": [
      "----> || Optimized QWK SCORE :: \u001b[36m\u001b[1m 0.452\u001b[0m\n"
     ]
    }
   ],
   "source": [
    "LGBM_Params = {\n",
    "    'learning_rate': 0.04,\n",
    "    'max_depth': 12,\n",
    "    'num_leaves': 413,\n",
    "    'min_data_in_leaf': 14,\n",
    "    'feature_fraction': 0.8,\n",
    "    'bagging_fraction': 0.76,\n",
    "    'bagging_freq': 2,\n",
    "    'lambda_l1': 4.735,\n",
    "    'lambda_l2': 4.735e-06,\n",
    "    'random_state': SEED}\n",
    "LGBM_Model = lgb.LGBMRegressor(**LGBM_Params, verbose=-1, n_estimators=200)\n",
    "# XGBoost parameters\n",
    "XGB_Params = {\n",
    "    'learning_rate': 0.04,\n",
    "    'max_depth': 6,\n",
    "    'n_estimators': 200,\n",
    "    'subsample': 0.8,\n",
    "    'colsample_bytree': 0.8,\n",
    "    'reg_alpha': 1,  # Increased from 0.1\n",
    "    'reg_lambda': 5,  # Increased from 1\n",
    "    'random_state': SEED}\n",
    "XGB_Model = XGBRegressor(**XGB_Params)\n",
    "\n",
    "#CatBoost parameters\n",
    "'''\n",
    "CatBoost_Params = {\n",
    "    'learning_rate': 0.05,\n",
    "    'depth': 6,\n",
    "    'iterations': 200,\n",
    "    'random_seed': SEED,\n",
    "    'cat_features': cat_c,\n",
    "    'verbose': 0,\n",
    "    'l2_leaf_reg': 10  # Increase this value\n",
    "}\n",
    "CatBoost_Model = CatBoostRegressor(**CatBoost_Params)\n",
    "'''\n",
    "Voting_Model = VotingRegressor(estimators=[\n",
    "    ('lightgbm', LGBM_Model),\n",
    "    ('xgboost', XGB_Model)\n",
    "    #('catboost', CatBoost_Model)\n",
    "])\n",
    "\n",
    "\n",
    "Submission3= TrainML(Voting_Model,test)\n",
    "\n",
    "\n",
    "#Submission3 = TrainML(LGBM_Model, test)"
   ]
  },
  {
   "cell_type": "code",
   "execution_count": 24,
   "id": "223e1506",
   "metadata": {
    "execution": {
     "iopub.execute_input": "2024-12-15T09:46:51.300336Z",
     "iopub.status.busy": "2024-12-15T09:46:51.299955Z",
     "iopub.status.idle": "2024-12-15T09:46:51.316495Z",
     "shell.execute_reply": "2024-12-15T09:46:51.315459Z"
    },
    "papermill": {
     "duration": 0.046047,
     "end_time": "2024-12-15T09:46:51.318775",
     "exception": false,
     "start_time": "2024-12-15T09:46:51.272728",
     "status": "completed"
    },
    "tags": []
   },
   "outputs": [
    {
     "name": "stdout",
     "output_type": "stream",
     "text": [
      "sii\n",
      "1    15\n",
      "0     5\n",
      "Name: count, dtype: int64\n"
     ]
    }
   ],
   "source": [
    "Submission3.to_csv('submission.csv', index=False)\n",
    "print(Submission3['sii'].value_counts())"
   ]
  }
 ],
 "metadata": {
  "kaggle": {
   "accelerator": "none",
   "dataSources": [
    {
     "databundleVersionId": 9643020,
     "sourceId": 81933,
     "sourceType": "competition"
    }
   ],
   "dockerImageVersionId": 30804,
   "isGpuEnabled": false,
   "isInternetEnabled": false,
   "language": "python",
   "sourceType": "notebook"
  },
  "kernelspec": {
   "display_name": "Python 3",
   "language": "python",
   "name": "python3"
  },
  "language_info": {
   "codemirror_mode": {
    "name": "ipython",
    "version": 3
   },
   "file_extension": ".py",
   "mimetype": "text/x-python",
   "name": "python",
   "nbconvert_exporter": "python",
   "pygments_lexer": "ipython3",
   "version": "3.10.14"
  },
  "papermill": {
   "default_parameters": {},
   "duration": 193.690027,
   "end_time": "2024-12-15T09:46:52.569910",
   "environment_variables": {},
   "exception": null,
   "input_path": "__notebook__.ipynb",
   "output_path": "__notebook__.ipynb",
   "parameters": {},
   "start_time": "2024-12-15T09:43:38.879883",
   "version": "2.6.0"
  }
 },
 "nbformat": 4,
 "nbformat_minor": 5
}
